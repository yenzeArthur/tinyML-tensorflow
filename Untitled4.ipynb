{
  "nbformat": 4,
  "nbformat_minor": 0,
  "metadata": {
    "colab": {
      "provenance": [],
      "authorship_tag": "ABX9TyMEiSL8a3IqnJyHNiqcG/7h",
      "include_colab_link": true
    },
    "kernelspec": {
      "name": "python3",
      "display_name": "Python 3"
    },
    "language_info": {
      "name": "python"
    }
  },
  "cells": [
    {
      "cell_type": "markdown",
      "metadata": {
        "id": "view-in-github",
        "colab_type": "text"
      },
      "source": [
        "<a href=\"https://colab.research.google.com/github/yenzeArthur/tinyML-tensorflow/blob/main/Untitled4.ipynb\" target=\"_parent\"><img src=\"https://colab.research.google.com/assets/colab-badge.svg\" alt=\"Open In Colab\"/></a>"
      ]
    },
    {
      "cell_type": "code",
      "execution_count": 3,
      "metadata": {
        "id": "ZthLZhKPYAyI"
      },
      "outputs": [],
      "source": [
        "import tensorflow as tf\n",
        "from tensorflow import GradientTape"
      ]
    },
    {
      "cell_type": "code",
      "source": [
        "class Model(object):\n",
        "  def __init__(self):\n",
        "    self.w = tf.Variable(10.0)\n",
        "    self.b = tf.Variable(10.0)\n",
        "\n",
        "  def __call__(self, x):\n",
        "    return self.w * x + self.b"
      ],
      "metadata": {
        "id": "LOxRn3ywcCNJ"
      },
      "execution_count": 4,
      "outputs": []
    },
    {
      "cell_type": "code",
      "source": [
        "model = Model()\n",
        "xs = [-1.0, 0.0, 1.0, 2.0, 3.0, 4.0]\n",
        "ys = [-3.0, -1.0, 1.0, 3.0, 5.0, 7.0]\n",
        "print(model(xs))"
      ],
      "metadata": {
        "colab": {
          "base_uri": "https://localhost:8080/"
        },
        "id": "v5_s_KW5cvWJ",
        "outputId": "63ba91a2-c392-4a81-d593-6735db8c5388"
      },
      "execution_count": 13,
      "outputs": [
        {
          "output_type": "stream",
          "name": "stdout",
          "text": [
            "tf.Tensor([ 0. 10. 20. 30. 40. 50.], shape=(6,), dtype=float32)\n"
          ]
        }
      ]
    },
    {
      "cell_type": "code",
      "source": [
        "def loss(predicted_y, target_y):\n",
        "  return tf.reduce_mean(tf.square(predicted_y - target_y))"
      ],
      "metadata": {
        "id": "WuXlbxyHdW1V"
      },
      "execution_count": 6,
      "outputs": []
    },
    {
      "cell_type": "code",
      "source": [
        "def train(model, xs, ys, learning_rate):\n",
        "  with tf.GradientTape() as t:\n",
        "    current_loss = loss(model(xs), ys)\n",
        "    dw, db = t.gradient(current_loss, [model.w, model.b])\n",
        "    model.w.assign_sub(learning_rate*dw)\n",
        "    model.b.assign_sub(learning_rate*db)\n",
        "    return current_loss"
      ],
      "metadata": {
        "id": "skQUcbDIdyl_"
      },
      "execution_count": 10,
      "outputs": []
    },
    {
      "cell_type": "code",
      "source": [
        "for epoch in range(50):\n",
        "  current_loss = train(model, xs, ys, learning_rate=0.1)\n",
        "  print(current_loss)"
      ],
      "metadata": {
        "colab": {
          "base_uri": "https://localhost:8080/"
        },
        "id": "VCBu0lXlfWKf",
        "outputId": "c46f614d-e159-4528-cd2b-bb8c024a58d4"
      },
      "execution_count": 12,
      "outputs": [
        {
          "output_type": "stream",
          "name": "stdout",
          "text": [
            "tf.Tensor(0.00061407714, shape=(), dtype=float32)\n",
            "tf.Tensor(0.0004938321, shape=(), dtype=float32)\n",
            "tf.Tensor(0.00039713012, shape=(), dtype=float32)\n",
            "tf.Tensor(0.00031936818, shape=(), dtype=float32)\n",
            "tf.Tensor(0.0002568295, shape=(), dtype=float32)\n",
            "tf.Tensor(0.00020654003, shape=(), dtype=float32)\n",
            "tf.Tensor(0.00016609686, shape=(), dtype=float32)\n",
            "tf.Tensor(0.00013357082, shape=(), dtype=float32)\n",
            "tf.Tensor(0.00010741715, shape=(), dtype=float32)\n",
            "tf.Tensor(8.63836e-05, shape=(), dtype=float32)\n",
            "tf.Tensor(6.9467314e-05, shape=(), dtype=float32)\n",
            "tf.Tensor(5.586469e-05, shape=(), dtype=float32)\n",
            "tf.Tensor(4.4925404e-05, shape=(), dtype=float32)\n",
            "tf.Tensor(3.6129044e-05, shape=(), dtype=float32)\n",
            "tf.Tensor(2.9053963e-05, shape=(), dtype=float32)\n",
            "tf.Tensor(2.3365154e-05, shape=(), dtype=float32)\n",
            "tf.Tensor(1.8789797e-05, shape=(), dtype=float32)\n",
            "tf.Tensor(1.51104805e-05, shape=(), dtype=float32)\n",
            "tf.Tensor(1.2151689e-05, shape=(), dtype=float32)\n",
            "tf.Tensor(9.77242e-06, shape=(), dtype=float32)\n",
            "tf.Tensor(7.858657e-06, shape=(), dtype=float32)\n",
            "tf.Tensor(6.319789e-06, shape=(), dtype=float32)\n",
            "tf.Tensor(5.0823883e-06, shape=(), dtype=float32)\n",
            "tf.Tensor(4.0868485e-06, shape=(), dtype=float32)\n",
            "tf.Tensor(3.28686e-06, shape=(), dtype=float32)\n",
            "tf.Tensor(2.643014e-06, shape=(), dtype=float32)\n",
            "tf.Tensor(2.1257536e-06, shape=(), dtype=float32)\n",
            "tf.Tensor(1.7093333e-06, shape=(), dtype=float32)\n",
            "tf.Tensor(1.3745666e-06, shape=(), dtype=float32)\n",
            "tf.Tensor(1.1055105e-06, shape=(), dtype=float32)\n",
            "tf.Tensor(8.889153e-07, shape=(), dtype=float32)\n",
            "tf.Tensor(7.149262e-07, shape=(), dtype=float32)\n",
            "tf.Tensor(5.749097e-07, shape=(), dtype=float32)\n",
            "tf.Tensor(4.622722e-07, shape=(), dtype=float32)\n",
            "tf.Tensor(3.7173615e-07, shape=(), dtype=float32)\n",
            "tf.Tensor(2.9898447e-07, shape=(), dtype=float32)\n",
            "tf.Tensor(2.40458e-07, shape=(), dtype=float32)\n",
            "tf.Tensor(1.9333591e-07, shape=(), dtype=float32)\n",
            "tf.Tensor(1.5550985e-07, shape=(), dtype=float32)\n",
            "tf.Tensor(1.2508814e-07, shape=(), dtype=float32)\n",
            "tf.Tensor(1.0056093e-07, shape=(), dtype=float32)\n",
            "tf.Tensor(8.088495e-08, shape=(), dtype=float32)\n",
            "tf.Tensor(6.504162e-08, shape=(), dtype=float32)\n",
            "tf.Tensor(5.22901e-08, shape=(), dtype=float32)\n",
            "tf.Tensor(4.2049763e-08, shape=(), dtype=float32)\n",
            "tf.Tensor(3.3796663e-08, shape=(), dtype=float32)\n",
            "tf.Tensor(2.7192955e-08, shape=(), dtype=float32)\n",
            "tf.Tensor(2.1851884e-08, shape=(), dtype=float32)\n",
            "tf.Tensor(1.7578765e-08, shape=(), dtype=float32)\n",
            "tf.Tensor(1.4150785e-08, shape=(), dtype=float32)\n"
          ]
        }
      ]
    }
  ]
}